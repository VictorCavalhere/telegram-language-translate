{
 "cells": [
  {
   "cell_type": "code",
   "execution_count": 1,
   "id": "a1cac487-62c8-4a7f-8d14-45dcc2a9df3d",
   "metadata": {},
   "outputs": [
    {
     "name": "stdout",
     "output_type": "stream",
     "text": [
      "Collecting translate-api\n",
      "  Downloading translate_api-4.9.5-py3-none-any.whl (20 kB)\n",
      "Requirement already satisfied: requests>=2.25.1 in /home/victor/anaconda3/envs/telegram/lib/python3.8/site-packages (from translate-api) (2.28.1)\n",
      "Requirement already satisfied: lxml>=4.5.0 in /home/victor/anaconda3/envs/telegram/lib/python3.8/site-packages (from translate-api) (4.9.1)\n",
      "Collecting loguru>=0.4.1\n",
      "  Downloading loguru-0.6.0-py3-none-any.whl (58 kB)\n",
      "\u001b[2K     \u001b[38;2;114;156;31m━━━━━━━━━━━━━━━━━━━━━━━━━━━━━━━━━━━━━━━━\u001b[0m \u001b[32m58.3/58.3 kB\u001b[0m \u001b[31m2.3 MB/s\u001b[0m eta \u001b[36m0:00:00\u001b[0m\n",
      "\u001b[?25hCollecting pathos>=0.2.7\n",
      "  Downloading pathos-0.2.9-py3-none-any.whl (76 kB)\n",
      "\u001b[2K     \u001b[38;2;114;156;31m━━━━━━━━━━━━━━━━━━━━━━━━━━━━━━━━━━━━━━━━\u001b[0m \u001b[32m76.9/76.9 kB\u001b[0m \u001b[31m9.4 MB/s\u001b[0m eta \u001b[36m0:00:00\u001b[0m\n",
      "\u001b[?25hCollecting PyExecJS>=1.5.1\n",
      "  Downloading PyExecJS-1.5.1.tar.gz (13 kB)\n",
      "  Preparing metadata (setup.py) ... \u001b[?25ldone\n",
      "\u001b[?25hCollecting ppft>=1.7.6.5\n",
      "  Downloading ppft-1.7.6.5-py2.py3-none-any.whl (52 kB)\n",
      "\u001b[2K     \u001b[38;2;114;156;31m━━━━━━━━━━━━━━━━━━━━━━━━━━━━━━━━━━━━━━━━\u001b[0m \u001b[32m52.5/52.5 kB\u001b[0m \u001b[31m6.1 MB/s\u001b[0m eta \u001b[36m0:00:00\u001b[0m\n",
      "\u001b[?25hCollecting pox>=0.3.1\n",
      "  Downloading pox-0.3.1-py2.py3-none-any.whl (28 kB)\n",
      "Collecting multiprocess>=0.70.13\n",
      "  Downloading multiprocess-0.70.13-py38-none-any.whl (131 kB)\n",
      "\u001b[2K     \u001b[38;2;114;156;31m━━━━━━━━━━━━━━━━━━━━━━━━━━━━━━━━━━━━━━\u001b[0m \u001b[32m131.4/131.4 kB\u001b[0m \u001b[31m10.6 MB/s\u001b[0m eta \u001b[36m0:00:00\u001b[0m\n",
      "\u001b[?25hCollecting dill>=0.3.5.1\n",
      "  Downloading dill-0.3.5.1-py2.py3-none-any.whl (95 kB)\n",
      "\u001b[2K     \u001b[38;2;114;156;31m━━━━━━━━━━━━━━━━━━━━━━━━━━━━━━━━━━━━━━━━\u001b[0m \u001b[32m95.8/95.8 kB\u001b[0m \u001b[31m7.9 MB/s\u001b[0m eta \u001b[36m0:00:00\u001b[0m\n",
      "\u001b[?25hRequirement already satisfied: six>=1.10.0 in /home/victor/anaconda3/envs/telegram/lib/python3.8/site-packages (from PyExecJS>=1.5.1->translate-api) (1.16.0)\n",
      "Requirement already satisfied: idna<4,>=2.5 in /home/victor/anaconda3/envs/telegram/lib/python3.8/site-packages (from requests>=2.25.1->translate-api) (3.4)\n",
      "Requirement already satisfied: charset-normalizer<3,>=2 in /home/victor/anaconda3/envs/telegram/lib/python3.8/site-packages (from requests>=2.25.1->translate-api) (2.1.1)\n",
      "Requirement already satisfied: urllib3<1.27,>=1.21.1 in /home/victor/anaconda3/envs/telegram/lib/python3.8/site-packages (from requests>=2.25.1->translate-api) (1.26.12)\n",
      "Requirement already satisfied: certifi>=2017.4.17 in /home/victor/anaconda3/envs/telegram/lib/python3.8/site-packages (from requests>=2.25.1->translate-api) (2022.6.15)\n",
      "Building wheels for collected packages: PyExecJS\n",
      "  Building wheel for PyExecJS (setup.py) ... \u001b[?25ldone\n",
      "\u001b[?25h  Created wheel for PyExecJS: filename=PyExecJS-1.5.1-py3-none-any.whl size=14581 sha256=6b43704198fbc9d1dfffff296b6dd5f9d9dbfa44816f49ac0f450a4f8224d759\n",
      "  Stored in directory: /home/victor/.cache/pip/wheels/db/3c/3d/7e9aca234caf6602ae4a4c7b367b3afc03519e791b998a94e4\n",
      "Successfully built PyExecJS\n",
      "Installing collected packages: PyExecJS, ppft, pox, loguru, dill, multiprocess, pathos, translate-api\n",
      "Successfully installed PyExecJS-1.5.1 dill-0.3.5.1 loguru-0.6.0 multiprocess-0.70.13 pathos-0.2.9 pox-0.3.1 ppft-1.7.6.5 translate-api-4.9.5\n"
     ]
    }
   ],
   "source": [
    "!pip install translate-api"
   ]
  },
  {
   "cell_type": "code",
   "execution_count": 2,
   "id": "289bade4-e64e-446e-b83d-ca28538395ca",
   "metadata": {},
   "outputs": [
    {
     "name": "stderr",
     "output_type": "stream",
     "text": [
      "Using Brazil server backend.\n"
     ]
    }
   ],
   "source": [
    "import translators as ts"
   ]
  },
  {
   "cell_type": "code",
   "execution_count": 4,
   "id": "c49424f7-58c5-4976-a6ef-a3c29797294d",
   "metadata": {},
   "outputs": [
    {
     "data": {
      "text/plain": [
       "'Could you tell me your name?'"
      ]
     },
     "execution_count": 4,
     "metadata": {},
     "output_type": "execute_result"
    }
   ],
   "source": [
    "ts.google('Poderia me dizer o seu nome?')"
   ]
  },
  {
   "cell_type": "code",
   "execution_count": 11,
   "id": "1fcda0eb-f4b3-4f2b-91d5-445ed46e3e8a",
   "metadata": {},
   "outputs": [],
   "source": [
    "x = '{\"update_id\": 368133157, \"message\": {\"message_id\": 52.0, \"text\": \"Ol\\u00e1\", \"chat\": {\"id\": 1655508596, \"first_name\": \"Victor\", \"last_name\": \"Cavalhere\", \"type\": \"private\"}}}'"
   ]
  },
  {
   "cell_type": "code",
   "execution_count": 13,
   "id": "c1901c04-0023-4fff-966d-307460d55369",
   "metadata": {},
   "outputs": [
    {
     "data": {
      "text/plain": [
       "{'update_id': 368133157,\n",
       " 'message': {'message_id': 52.0,\n",
       "  'text': 'Olá',\n",
       "  'chat': {'id': 1655508596,\n",
       "   'first_name': 'Victor',\n",
       "   'last_name': 'Cavalhere',\n",
       "   'type': 'private'}}}"
      ]
     },
     "execution_count": 13,
     "metadata": {},
     "output_type": "execute_result"
    }
   ],
   "source": [
    "import json\n",
    "json.loads(x)"
   ]
  },
  {
   "cell_type": "code",
   "execution_count": null,
   "id": "4dbb7121-8945-4353-b741-639e8a602fa1",
   "metadata": {},
   "outputs": [],
   "source": []
  }
 ],
 "metadata": {
  "kernelspec": {
   "display_name": "Python 3 (ipykernel)",
   "language": "python",
   "name": "python3"
  },
  "language_info": {
   "codemirror_mode": {
    "name": "ipython",
    "version": 3
   },
   "file_extension": ".py",
   "mimetype": "text/x-python",
   "name": "python",
   "nbconvert_exporter": "python",
   "pygments_lexer": "ipython3",
   "version": "3.8.13"
  }
 },
 "nbformat": 4,
 "nbformat_minor": 5
}
