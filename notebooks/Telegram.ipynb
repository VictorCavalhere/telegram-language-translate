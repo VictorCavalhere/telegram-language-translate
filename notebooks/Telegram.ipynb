{
 "cells": [
  {
   "cell_type": "code",
   "execution_count": 1,
   "id": "c89ef63f-b1b6-4941-855f-9776b7d73b48",
   "metadata": {
    "tags": []
   },
   "outputs": [
    {
     "name": "stdout",
     "output_type": "stream",
     "text": [
      "Collecting python-telegram-bot\n",
      "  Downloading python_telegram_bot-13.14-py3-none-any.whl (514 kB)\n",
      "\u001b[2K     \u001b[38;2;114;156;31m━━━━━━━━━━━━━━━━━━━━━━━━━━━━━━━━━━━━━━━\u001b[0m \u001b[32m514.6/514.6 kB\u001b[0m \u001b[31m5.8 MB/s\u001b[0m eta \u001b[36m0:00:00\u001b[0m MB/s\u001b[0m eta \u001b[36m0:00:01\u001b[0m:01\u001b[0m\n",
      "\u001b[?25hCollecting tornado==6.1\n",
      "  Downloading tornado-6.1-cp38-cp38-manylinux2010_x86_64.whl (427 kB)\n",
      "\u001b[2K     \u001b[38;2;114;156;31m━━━━━━━━━━━━━━━━━━━━━━━━━━━━━━━━━━━━━━━\u001b[0m \u001b[32m427.5/427.5 kB\u001b[0m \u001b[31m5.9 MB/s\u001b[0m eta \u001b[36m0:00:00\u001b[0m[36m0:00:01\u001b[0mm eta \u001b[36m0:00:01\u001b[0m\n",
      "\u001b[?25hCollecting APScheduler==3.6.3\n",
      "  Downloading APScheduler-3.6.3-py2.py3-none-any.whl (58 kB)\n",
      "\u001b[2K     \u001b[38;2;114;156;31m━━━━━━━━━━━━━━━━━━━━━━━━━━━━━━━━━━━━━━━━\u001b[0m \u001b[32m58.9/58.9 kB\u001b[0m \u001b[31m5.1 MB/s\u001b[0m eta \u001b[36m0:00:00\u001b[0m\n",
      "\u001b[?25hRequirement already satisfied: pytz>=2018.6 in /home/victor/anaconda3/envs/telegram/lib/python3.8/site-packages (from python-telegram-bot) (2022.2.1)\n",
      "Collecting cachetools==4.2.2\n",
      "  Downloading cachetools-4.2.2-py3-none-any.whl (11 kB)\n",
      "Requirement already satisfied: certifi in /home/victor/anaconda3/envs/telegram/lib/python3.8/site-packages (from python-telegram-bot) (2022.6.15)\n",
      "Requirement already satisfied: setuptools>=0.7 in /home/victor/anaconda3/envs/telegram/lib/python3.8/site-packages (from APScheduler==3.6.3->python-telegram-bot) (63.4.1)\n",
      "Requirement already satisfied: six>=1.4.0 in /home/victor/anaconda3/envs/telegram/lib/python3.8/site-packages (from APScheduler==3.6.3->python-telegram-bot) (1.16.0)\n",
      "Collecting tzlocal>=1.2\n",
      "  Using cached tzlocal-4.2-py3-none-any.whl (19 kB)\n",
      "Collecting backports.zoneinfo\n",
      "  Using cached backports.zoneinfo-0.2.1-cp38-cp38-manylinux1_x86_64.whl (74 kB)\n",
      "Collecting pytz-deprecation-shim\n",
      "  Using cached pytz_deprecation_shim-0.1.0.post0-py2.py3-none-any.whl (15 kB)\n",
      "Collecting tzdata\n",
      "  Using cached tzdata-2022.2-py2.py3-none-any.whl (336 kB)\n",
      "Installing collected packages: tzdata, tornado, cachetools, backports.zoneinfo, pytz-deprecation-shim, tzlocal, APScheduler, python-telegram-bot\n",
      "  Attempting uninstall: tornado\n",
      "    Found existing installation: tornado 6.2\n",
      "    Uninstalling tornado-6.2:\n",
      "      Successfully uninstalled tornado-6.2\n",
      "\u001b[31mERROR: pip's dependency resolver does not currently take into account all the packages that are installed. This behaviour is the source of the following dependency conflicts.\n",
      "jupyter-client 7.3.5 requires tornado>=6.2, but you have tornado 6.1 which is incompatible.\u001b[0m\u001b[31m\n",
      "\u001b[0mSuccessfully installed APScheduler-3.6.3 backports.zoneinfo-0.2.1 cachetools-4.2.2 python-telegram-bot-13.14 pytz-deprecation-shim-0.1.0.post0 tornado-6.1 tzdata-2022.2 tzlocal-4.2\n"
     ]
    }
   ],
   "source": [
    "!pip install python-telegram-bot --upgrade"
   ]
  },
  {
   "cell_type": "code",
   "execution_count": 2,
   "id": "55b0ba7c-e3ef-414f-899e-646206c7c12b",
   "metadata": {},
   "outputs": [],
   "source": [
    "import telegram "
   ]
  },
  {
   "cell_type": "code",
   "execution_count": null,
   "id": "4a51eada-70e5-4d2f-934d-a2cd54e81bec",
   "metadata": {},
   "outputs": [],
   "source": [
    "telegram."
   ]
  }
 ],
 "metadata": {
  "kernelspec": {
   "display_name": "Python 3 (ipykernel)",
   "language": "python",
   "name": "python3"
  },
  "language_info": {
   "codemirror_mode": {
    "name": "ipython",
    "version": 3
   },
   "file_extension": ".py",
   "mimetype": "text/x-python",
   "name": "python",
   "nbconvert_exporter": "python",
   "pygments_lexer": "ipython3",
   "version": "3.8.13"
  }
 },
 "nbformat": 4,
 "nbformat_minor": 5
}
